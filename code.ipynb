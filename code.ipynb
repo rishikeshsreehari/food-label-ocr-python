{
 "cells": [
  {
   "cell_type": "code",
   "execution_count": null,
   "id": "f1b33d7b",
   "metadata": {},
   "outputs": [],
   "source": []
  },
  {
   "cell_type": "code",
   "execution_count": 3,
   "id": "34b35220",
   "metadata": {},
   "outputs": [],
   "source": [
    "import pytesseract\n",
    "from PIL import Image\n",
    "import cv2\n",
    "import os\n",
    "import re\n",
    "import pandas as pd\n",
    "\n",
    "# Set the Tesseract executable path\n",
    "pytesseract.pytesseract.tesseract_cmd = r\"C:\\Program Files\\Tesseract-OCR\\tesseract.exe\""
   ]
  },
  {
   "cell_type": "code",
   "execution_count": 66,
   "id": "5ae86930",
   "metadata": {},
   "outputs": [
    {
     "name": "stdout",
     "output_type": "stream",
     "text": [
      "Output DataFrame:\n",
      "  File Name total_fat cholesterol sodium protein calcium iron\n",
      "0     1.jpg         8         0mg  160mg      3g   260mg  8mg\n",
      "1     2.jpg       12g         NaN   70mg      5g      10    0\n",
      "2     3.jpg       15g        30mg  650mg      5g      15  NaN\n",
      "3     4.jpg       129         8mg  210mg     11g   210mg  4mg\n"
     ]
    }
   ],
   "source": [
    "# Function for image preprocessing\n",
    "def preprocess_image(image_path):\n",
    "    image = cv2.imread(image_path)\n",
    "    gray = cv2.cvtColor(image, cv2.COLOR_BGR2GRAY)\n",
    "    _, binary = cv2.threshold(gray, 0, 255, cv2.THRESH_BINARY_INV + cv2.THRESH_OTSU)\n",
    "    return Image.fromarray(binary)\n",
    "\n",
    "# Function to extract nutrient information from an image using OCR\n",
    "def extract_nutrients_from_image(image_path):\n",
    "    # Preprocess the image\n",
    "    preprocessed_image = preprocess_image(image_path)\n",
    "    \n",
    "    # Perform OCR on the preprocessed image with additional configuration options\n",
    "    custom_config = r'--oem 3 --psm 6 -c lstm_choice_mode=2'\n",
    "    ocr_result = pytesseract.image_to_string(preprocessed_image, lang='eng', config=custom_config)\n",
    "    \n",
    "    # Regular expression pattern to extract nutrient values\n",
    "    nutrient_pattern = r\"(?i)(Total\\s+Fat|Protein|Iron|Calcium|Sodium|Cholesterol)\\s+(\\d+(?:\\.\\d+)?)\\s*([a-z]*)\"\n",
    "    \n",
    "    # Find all nutrient values using the regular expression\n",
    "    nutrients = re.findall(nutrient_pattern, ocr_result)\n",
    "    \n",
    "    # Prepare a dictionary to store nutrient values\n",
    "    nutrient_values = {}\n",
    "    for nutrient in nutrients:\n",
    "        nutrient_header = nutrient[0]\n",
    "        nutrient_value = nutrient[1]\n",
    "        nutrient_unit = nutrient[2]\n",
    "        \n",
    "        # Convert values to lowercase and replace spaces with underscores for consistency\n",
    "        nutrient_header = nutrient_header.lower().replace(\" \", \"_\")\n",
    "        \n",
    "        # Consolidate the nutrient values if the header is already present\n",
    "        if nutrient_header in nutrient_values:\n",
    "            existing_value = nutrient_values[nutrient_header]\n",
    "            nutrient_value = f\"{existing_value} {nutrient_value}\"\n",
    "        \n",
    "        nutrient_values[nutrient_header] = f\"{nutrient_value}{nutrient_unit}\"\n",
    "    \n",
    "    return nutrient_values\n",
    "\n",
    "\n",
    "# Function to create an output DataFrame with nutrient information from all images in the directory\n",
    "def create_output_dataframe(images_folder):\n",
    "    # Create an empty list to store nutrient information for each image\n",
    "    nutrient_info_list = []\n",
    "    \n",
    "    # Get a list of image files in the specified folder\n",
    "    image_files = [f for f in os.listdir(images_folder) if os.path.isfile(os.path.join(images_folder, f))]\n",
    "    \n",
    "    # Process each image and extract nutrient information\n",
    "    for image_file in image_files:\n",
    "        image_path = os.path.join(images_folder, image_file)\n",
    "        nutrients = extract_nutrients_from_image(image_path)\n",
    "        \n",
    "        # Append the nutrient information for the current image to the list\n",
    "        nutrient_info_list.append({\"File Name\": image_file, **nutrients})\n",
    "    \n",
    "    # Create a DataFrame from the list of nutrient information\n",
    "    df = pd.DataFrame(nutrient_info_list)\n",
    "    \n",
    "    return df\n",
    "\n",
    "# Main function\n",
    "if __name__ == \"__main__\":\n",
    "    # Provide the folder containing food packet images\n",
    "    images_folder = r\"G:\\My Drive\\GitHub\\img\"\n",
    "    \n",
    "    # Step 1: Create the output DataFrame\n",
    "    output_df = create_output_dataframe(images_folder)\n",
    "    \n",
    "    # Step 2: Display the output DataFrame\n",
    "    print(\"Output DataFrame:\")\n",
    "    print(output_df)\n"
   ]
  },
  {
   "cell_type": "code",
   "execution_count": null,
   "id": "8896e178",
   "metadata": {},
   "outputs": [],
   "source": []
  }
 ],
 "metadata": {
  "kernelspec": {
   "display_name": "Python 3 (ipykernel)",
   "language": "python",
   "name": "python3"
  },
  "language_info": {
   "codemirror_mode": {
    "name": "ipython",
    "version": 3
   },
   "file_extension": ".py",
   "mimetype": "text/x-python",
   "name": "python",
   "nbconvert_exporter": "python",
   "pygments_lexer": "ipython3",
   "version": "3.9.13"
  }
 },
 "nbformat": 4,
 "nbformat_minor": 5
}
